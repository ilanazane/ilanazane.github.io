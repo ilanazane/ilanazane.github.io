{
 "cells": [
  {
   "cell_type": "code",
   "execution_count": 15,
   "id": "3d5ea015",
   "metadata": {},
   "outputs": [],
   "source": [
    "from keras.layers import Dense,Conv2D,MaxPooling2D,UpSampling2D\n",
    "from keras import Input, Model\n",
    "from keras.datasets import mnist\n",
    "from keras.datasets import fashion_mnist\n",
    "import numpy as np\n",
    "import matplotlib.pyplot as plt"
   ]
  },
  {
   "cell_type": "markdown",
   "id": "814cfbe2",
   "metadata": {},
   "source": [
    "# Normal Autoencoder"
   ]
  },
  {
   "cell_type": "code",
   "execution_count": 3,
   "id": "d41178d6",
   "metadata": {},
   "outputs": [
    {
     "name": "stderr",
     "output_type": "stream",
     "text": [
      "2022-11-16 12:46:22.257812: I tensorflow/core/platform/cpu_feature_guard.cc:151] This TensorFlow binary is optimized with oneAPI Deep Neural Network Library (oneDNN) to use the following CPU instructions in performance-critical operations:  AVX2 FMA\n",
      "To enable them in other operations, rebuild TensorFlow with the appropriate compiler flags.\n"
     ]
    }
   ],
   "source": [
    "encoding_dim = 15 \n",
    "input_img = Input(shape=(784,))\n",
    "# encoded representation of input\n",
    "encoded = Dense(encoding_dim, activation='relu')(input_img)\n",
    "# decoded representation of code \n",
    "decoded = Dense(784, activation='sigmoid')(encoded)\n",
    "# Model which take input image and shows decoded images\n",
    "autoencoder = Model(input_img, decoded)"
   ]
  },
  {
   "cell_type": "code",
   "execution_count": 4,
   "id": "cf8b8e36",
   "metadata": {},
   "outputs": [],
   "source": [
    "# This model shows encoded images\n",
    "encoder = Model(input_img, encoded)\n",
    "# Creating a decoder model\n",
    "encoded_input = Input(shape=(encoding_dim,))\n",
    "# last layer of the autoencoder model\n",
    "decoder_layer = autoencoder.layers[-1]\n",
    "# decoder model\n",
    "decoder = Model(encoded_input, decoder_layer(encoded_input))"
   ]
  },
  {
   "cell_type": "code",
   "execution_count": 5,
   "id": "7cf6f00b",
   "metadata": {},
   "outputs": [],
   "source": [
    "autoencoder.compile(optimizer='adam', loss='binary_crossentropy')\n"
   ]
  },
  {
   "cell_type": "code",
   "execution_count": 6,
   "id": "17e11fb5",
   "metadata": {},
   "outputs": [
    {
     "name": "stdout",
     "output_type": "stream",
     "text": [
      "(60000, 784)\n",
      "(10000, 784)\n"
     ]
    }
   ],
   "source": [
    "(x_train, y_train), (x_test, y_test) = mnist.load_data()\n",
    "x_train = x_train.astype('float32') / 255.\n",
    "x_test = x_test.astype('float32') / 255.\n",
    "x_train = x_train.reshape((len(x_train), np.prod(x_train.shape[1:])))\n",
    "x_test = x_test.reshape((len(x_test), np.prod(x_test.shape[1:])))\n",
    "print(x_train.shape)\n",
    "print(x_test.shape)"
   ]
  },
  {
   "cell_type": "code",
   "execution_count": 7,
   "id": "a6dca6d1",
   "metadata": {
    "scrolled": true
   },
   "outputs": [
    {
     "data": {
      "text/plain": [
       "<matplotlib.image.AxesImage at 0x12520b370>"
      ]
     },
     "execution_count": 7,
     "metadata": {},
     "output_type": "execute_result"
    },
    {
     "data": {
      "image/png": "[encoded data removed]",
      "text/plain": [
       "<Figure size 432x288 with 1 Axes>"
      ]
     },
     "metadata": {
      "needs_background": "light"
     },
     "output_type": "display_data"
    }
   ],
   "source": [
    "plt.imshow(x_train[0].reshape(28,28))\n"
   ]
  },
  {
   "cell_type": "code",
   "execution_count": 8,
   "id": "822e28eb",
   "metadata": {},
   "outputs": [
    {
     "name": "stdout",
     "output_type": "stream",
     "text": [
      "Epoch 1/15\n",
      "235/235 [==============================] - 2s 6ms/step - loss: 0.3108 - val_loss: 0.2187\n",
      "Epoch 2/15\n",
      "235/235 [==============================] - 2s 7ms/step - loss: 0.1966 - val_loss: 0.1805\n",
      "Epoch 3/15\n",
      "235/235 [==============================] - 2s 7ms/step - loss: 0.1725 - val_loss: 0.1641\n",
      "Epoch 4/15\n",
      "235/235 [==============================] - 2s 7ms/step - loss: 0.1597 - val_loss: 0.1538\n",
      "Epoch 5/15\n",
      "235/235 [==============================] - 1s 6ms/step - loss: 0.1514 - val_loss: 0.1472\n",
      "Epoch 6/15\n",
      "235/235 [==============================] - 1s 6ms/step - loss: 0.1465 - val_loss: 0.1436\n",
      "Epoch 7/15\n",
      "235/235 [==============================] - 2s 7ms/step - loss: 0.1436 - val_loss: 0.1412\n",
      "Epoch 8/15\n",
      "235/235 [==============================] - 2s 7ms/step - loss: 0.1415 - val_loss: 0.1394\n",
      "Epoch 9/15\n",
      "235/235 [==============================] - 1s 6ms/step - loss: 0.1398 - val_loss: 0.1379\n",
      "Epoch 10/15\n",
      "235/235 [==============================] - 2s 8ms/step - loss: 0.1383 - val_loss: 0.1364\n",
      "Epoch 11/15\n",
      "235/235 [==============================] - 2s 9ms/step - loss: 0.1371 - val_loss: 0.1353\n",
      "Epoch 12/15\n",
      "235/235 [==============================] - 2s 6ms/step - loss: 0.1362 - val_loss: 0.1344\n",
      "Epoch 13/15\n",
      "235/235 [==============================] - 2s 7ms/step - loss: 0.1354 - val_loss: 0.1337\n",
      "Epoch 14/15\n",
      "235/235 [==============================] - 2s 8ms/step - loss: 0.1348 - val_loss: 0.1332\n",
      "Epoch 15/15\n",
      "235/235 [==============================] - 2s 7ms/step - loss: 0.1343 - val_loss: 0.1327\n"
     ]
    },
    {
     "data": {
      "text/plain": [
       "<keras.callbacks.History at 0x1252e6d60>"
      ]
     },
     "execution_count": 8,
     "metadata": {},
     "output_type": "execute_result"
    }
   ],
   "source": [
    "autoencoder.fit(x_train, x_train,\n",
    "                epochs=15,\n",
    "                batch_size=256,\n",
    "                validation_data=(x_test, x_test))\n"
   ]
  },
  {
   "cell_type": "markdown",
   "id": "fab8bb62",
   "metadata": {},
   "source": [
    "# Normal Autoencoder Results"
   ]
  },
  {
   "cell_type": "code",
   "execution_count": 9,
   "id": "8d5a161f",
   "metadata": {},
   "outputs": [
    {
     "data": {
      "image/png": "[encoded data removed]",
      "text/plain": [
       "<Figure size 1440x288 with 20 Axes>"
      ]
     },
     "metadata": {
      "needs_background": "light"
     },
     "output_type": "display_data"
    }
   ],
   "source": [
    "encoded_img = encoder.predict(x_test)\n",
    "decoded_img = decoder.predict(encoded_img)\n",
    "plt.figure(figsize=(20, 4))\n",
    "for i in range(10):\n",
    "    # Display original\n",
    "    ax = plt.subplot(2, 10, i + 1)\n",
    "    plt.imshow(x_test[i].reshape(28, 28))\n",
    "    plt.gray()\n",
    "    ax.get_xaxis().set_visible(False)\n",
    "    ax.get_yaxis().set_visible(False)\n",
    "    # Display reconstruction\n",
    "    ax = plt.subplot(2, 10, i + 1 + 10)\n",
    "    plt.imshow(decoded_img[i].reshape(28, 28))\n",
    "    plt.gray()\n",
    "    ax.get_xaxis().set_visible(False)\n",
    "    ax.get_yaxis().set_visible(False)\n",
    "plt.show()"
   ]
  },
  {
   "cell_type": "code",
   "execution_count": 10,
   "id": "421dbb98",
   "metadata": {},
   "outputs": [],
   "source": [
    "from keras.models import Sequential"
   ]
  },
  {
   "cell_type": "markdown",
   "id": "49becaf4",
   "metadata": {},
   "source": [
    "# Deep Autoencoder"
   ]
  },
  {
   "cell_type": "code",
   "execution_count": 11,
   "id": "6b34bdd7",
   "metadata": {},
   "outputs": [
    {
     "name": "stdout",
     "output_type": "stream",
     "text": [
      "Model: \"sequential\"\n",
      "_________________________________________________________________\n",
      " Layer (type)                Output Shape              Param #   \n",
      "=================================================================\n",
      " conv2d (Conv2D)             (None, 28, 28, 30)        300       \n",
      "                                                                 \n",
      " max_pooling2d (MaxPooling2D  (None, 14, 14, 30)       0         \n",
      " )                                                               \n",
      "                                                                 \n",
      " conv2d_1 (Conv2D)           (None, 14, 14, 15)        4065      \n",
      "                                                                 \n",
      " max_pooling2d_1 (MaxPooling  (None, 7, 7, 15)         0         \n",
      " 2D)                                                             \n",
      "                                                                 \n",
      " conv2d_2 (Conv2D)           (None, 7, 7, 15)          2040      \n",
      "                                                                 \n",
      " up_sampling2d (UpSampling2D  (None, 14, 14, 15)       0         \n",
      " )                                                               \n",
      "                                                                 \n",
      " conv2d_3 (Conv2D)           (None, 14, 14, 30)        4080      \n",
      "                                                                 \n",
      " up_sampling2d_1 (UpSampling  (None, 28, 28, 30)       0         \n",
      " 2D)                                                             \n",
      "                                                                 \n",
      " conv2d_4 (Conv2D)           (None, 28, 28, 1)         271       \n",
      "                                                                 \n",
      "=================================================================\n",
      "Total params: 10,756\n",
      "Trainable params: 10,756\n",
      "Non-trainable params: 0\n",
      "_________________________________________________________________\n"
     ]
    }
   ],
   "source": [
    "\n",
    "model = Sequential()\n",
    "\n",
    "# encoder network\n",
    "model.add(Conv2D(30, 3, activation= 'relu', padding='same', input_shape = (28,28,1)))\n",
    "model.add(MaxPooling2D(2, padding= 'same'))\n",
    "model.add(Conv2D(15, 3, activation= 'relu', padding='same'))\n",
    "model.add(MaxPooling2D(2, padding= 'same'))\n",
    "\n",
    "#decoder network\n",
    "model.add(Conv2D(15, 3, activation= 'relu', padding='same'))\n",
    "model.add(UpSampling2D(2))\n",
    "model.add(Conv2D(30, 3, activation= 'relu', padding='same'))\n",
    "model.add(UpSampling2D(2))\n",
    "model.add(Conv2D(1,3,activation='sigmoid', padding= 'same')) # output layer\n",
    "model.compile(optimizer= 'adam', loss = 'binary_crossentropy')\n",
    "model.summary()"
   ]
  },
  {
   "cell_type": "code",
   "execution_count": 12,
   "id": "3afae80e",
   "metadata": {},
   "outputs": [
    {
     "name": "stdout",
     "output_type": "stream",
     "text": [
      "Epoch 1/15\n",
      "469/469 [==============================] - 79s 168ms/step - loss: 0.1290 - val_loss: 0.0792\n",
      "Epoch 2/15\n",
      "469/469 [==============================] - 80s 171ms/step - loss: 0.0775 - val_loss: 0.0748\n",
      "Epoch 3/15\n",
      "469/469 [==============================] - 79s 169ms/step - loss: 0.0746 - val_loss: 0.0730\n",
      "Epoch 4/15\n",
      "469/469 [==============================] - 77s 165ms/step - loss: 0.0730 - val_loss: 0.0720\n",
      "Epoch 5/15\n",
      "469/469 [==============================] - 90s 192ms/step - loss: 0.0721 - val_loss: 0.0710\n",
      "Epoch 6/15\n",
      "469/469 [==============================] - 79s 168ms/step - loss: 0.0713 - val_loss: 0.0704\n",
      "Epoch 7/15\n",
      "469/469 [==============================] - 72s 153ms/step - loss: 0.0707 - val_loss: 0.0699\n",
      "Epoch 8/15\n",
      "469/469 [==============================] - 71s 151ms/step - loss: 0.0703 - val_loss: 0.0694\n",
      "Epoch 9/15\n",
      "469/469 [==============================] - 85s 181ms/step - loss: 0.0698 - val_loss: 0.0692\n",
      "Epoch 10/15\n",
      "469/469 [==============================] - 74s 158ms/step - loss: 0.0695 - val_loss: 0.0687\n",
      "Epoch 11/15\n",
      "469/469 [==============================] - 73s 155ms/step - loss: 0.0692 - val_loss: 0.0691\n",
      "Epoch 12/15\n",
      "469/469 [==============================] - 77s 164ms/step - loss: 0.0689 - val_loss: 0.0683\n",
      "Epoch 13/15\n",
      "469/469 [==============================] - 68s 146ms/step - loss: 0.0687 - val_loss: 0.0680\n",
      "Epoch 14/15\n",
      "469/469 [==============================] - 68s 144ms/step - loss: 0.0684 - val_loss: 0.0678\n",
      "Epoch 15/15\n",
      "469/469 [==============================] - 68s 144ms/step - loss: 0.0682 - val_loss: 0.0676\n"
     ]
    },
    {
     "data": {
      "text/plain": [
       "<keras.callbacks.History at 0x126034d30>"
      ]
     },
     "execution_count": 12,
     "metadata": {},
     "output_type": "execute_result"
    }
   ],
   "source": [
    "(x_train, _), (x_test, _) = mnist.load_data()\n",
    "x_train = x_train.astype('float32') / 255.\n",
    "x_test = x_test.astype('float32') / 255.\n",
    "x_train = np.reshape(x_train, (len(x_train), 28, 28, 1))\n",
    "x_test = np.reshape(x_test, (len(x_test), 28, 28, 1))\n",
    "model.fit(x_train, x_train,\n",
    "                epochs=15,\n",
    "                batch_size=128,\n",
    "                validation_data=(x_test, x_test))"
   ]
  },
  {
   "cell_type": "markdown",
   "id": "1071dc59",
   "metadata": {},
   "source": [
    "# Deep Autoencoder Results"
   ]
  },
  {
   "cell_type": "code",
   "execution_count": 13,
   "id": "301ece6c",
   "metadata": {},
   "outputs": [
    {
     "data": {
      "image/png": "[encoded data removed]",
      "text/plain": [
       "<Figure size 1440x288 with 20 Axes>"
      ]
     },
     "metadata": {
      "needs_background": "light"
     },
     "output_type": "display_data"
    }
   ],
   "source": [
    "pred = model.predict(x_test)\n",
    "plt.figure(figsize=(20, 4))\n",
    "n=10\n",
    "for i in range(n):\n",
    "    # Display original\n",
    "    ax = plt.subplot(2, n, i + 1)\n",
    "    plt.imshow(x_test[i].reshape(28, 28))\n",
    "    plt.gray()\n",
    "    ax.get_xaxis().set_visible(False)\n",
    "    ax.get_yaxis().set_visible(False)\n",
    "    # Display reconstruction\n",
    "    ax = plt.subplot(2, n, i + 1 + n)\n",
    "    plt.imshow(pred[i].reshape(28, 28))\n",
    "    plt.gray()\n",
    "    ax.get_xaxis().set_visible(False)\n",
    "    ax.get_yaxis().set_visible(False)\n",
    "plt.show()"
   ]
  },
  {
   "cell_type": "markdown",
   "id": "4f25c2e6",
   "metadata": {},
   "source": [
    "# Test with Anomoly Images"
   ]
  },
  {
   "cell_type": "code",
   "execution_count": 24,
   "id": "9dd698d7",
   "metadata": {},
   "outputs": [
    {
     "name": "stdout",
     "output_type": "stream",
     "text": [
      "(60000, 28, 28, 1)\n",
      "(10000, 28, 28, 1)\n"
     ]
    },
    {
     "data": {
      "image/png": "[encoded data removed]",
      "text/plain": [
       "<Figure size 432x288 with 1 Axes>"
      ]
     },
     "metadata": {
      "needs_background": "light"
     },
     "output_type": "display_data"
    }
   ],
   "source": [
    "#load fashion data \n",
    "(fx_train, _), (fx_test, _) = fashion_mnist.load_data()\n",
    "#preprocess data\n",
    "fx_train = fx_train.astype('float32') / 255.\n",
    "fx_test = fx_test.astype('float32') / 255.\n",
    "fx_train = np.reshape(fx_train, (len(fx_train), 28, 28, 1))\n",
    "fx_test = np.reshape(fx_test, (len(fx_test), 28, 28, 1))\n",
    "\n",
    "#show the data \n",
    "plt.imshow(fx_train[0].reshape(28,28))\n",
    "print(fx_train.shape)\n",
    "print(fx_test.shape)\n",
    "\n"
   ]
  },
  {
   "cell_type": "code",
   "execution_count": 25,
   "id": "1a48bdc3",
   "metadata": {},
   "outputs": [
    {
     "data": {
      "image/png": "[encoded data removed]",
      "text/plain": [
       "<Figure size 1440x288 with 20 Axes>"
      ]
     },
     "metadata": {
      "needs_background": "light"
     },
     "output_type": "display_data"
    }
   ],
   "source": [
    "pred = model.predict(fx_test)\n",
    "plt.figure(figsize=(20, 4))\n",
    "n=10\n",
    "for i in range(n):\n",
    "    # Display original\n",
    "    ax = plt.subplot(2, n, i + 1)\n",
    "    plt.imshow(fx_test[i].reshape(28, 28))\n",
    "    plt.gray()\n",
    "    ax.get_xaxis().set_visible(False)\n",
    "    ax.get_yaxis().set_visible(False)\n",
    "    # Display reconstruction\n",
    "    ax = plt.subplot(2, n, i + 1 + n)\n",
    "    plt.imshow(pred[i].reshape(28, 28))\n",
    "    plt.gray()\n",
    "    ax.get_xaxis().set_visible(False)\n",
    "    ax.get_yaxis().set_visible(False)\n",
    "plt.show()"
   ]
  },
  {
   "cell_type": "code",
   "execution_count": null,
   "id": "d97e4f72",
   "metadata": {},
   "outputs": [],
   "source": []
  }
 ],
 "metadata": {
  "kernelspec": {
   "display_name": "Python 3.8.9 64-bit",
   "language": "python",
   "name": "python3"
  },
  "language_info": {
   "codemirror_mode": {
    "name": "ipython",
    "version": 3
   },
   "file_extension": ".py",
   "mimetype": "text/x-python",
   "name": "python",
   "nbconvert_exporter": "python",
   "pygments_lexer": "ipython3",
   "version": "3.8.9"
  },
  "vscode": {
   "interpreter": {
    "hash": "31f2aee4e71d21fbe5cf8b01ff0e069b9275f58929596ceb00d14d90e3e16cd6"
   }
  }
 },
 "nbformat": 4,
 "nbformat_minor": 5
}
